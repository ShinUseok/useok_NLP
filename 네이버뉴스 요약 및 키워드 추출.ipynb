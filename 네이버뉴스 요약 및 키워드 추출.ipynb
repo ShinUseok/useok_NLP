{
 "cells": [
  {
   "cell_type": "code",
   "execution_count": 1,
   "metadata": {},
   "outputs": [],
   "source": [
    "import requests as req\n",
    "from bs4 import BeautifulSoup as bs\n",
    "import pandas as pd\n",
    "from selenium import webdriver\n",
    "from selenium.webdriver.common.keys import Keys\n",
    "import time\n",
    "from urllib.parse import urljoin\n",
    "from urllib.request import urlopen\n",
    "from tqdm import tqdm_notebook\n",
    "import numpy as np\n",
    "import warnings\n",
    "warnings.filterwarnings('ignore')"
   ]
  },
  {
   "cell_type": "markdown",
   "metadata": {},
   "source": [
    "# 네이버 뉴스 가져오기 및 제외글자 추출"
   ]
  },
  {
   "cell_type": "code",
   "execution_count": 98,
   "metadata": {
    "scrolled": true
   },
   "outputs": [
    {
     "name": "stdout",
     "output_type": "stream",
     "text": [
      "기사 제목 :  美연준, 정크본드까지 매입..\"할수 있는 건 다 한다\"\n",
      "\n",
      "기사입력 시간 : 2020.04.10. 오후 5:52\n",
      "\n",
      "기사 본문 : [이데일리 원다연 기자] 미국 중앙은행인 연방준비제도(연준·Fed)가 코로나19로 인한 경기 충격에 대응해 파격적인 유동성 공급을 이어가고 있다. 지난 금융위기 당시 경험을 바탕으로 관련 절차를 정비해 신속하고 선제적인 대응에 나설 수 있다는 분석이다. 미 연준은 9일(현지시간) 중소기업 등을 지원하는 2조3000억달러(한화 약 2800조원) 규모 추가 대책을 발표했다. ‘메인스트리트 대출 프로그램(MSLP)’을 통해 중소기업에 6000억달러를 투입한다. 직원 1만명 이하·매출 25억달러 이하 기업을 대상으로 한 최대 4년 만기 대출과 직원 급여를 측면 지원하는 ‘급여보호프로그램’(PPP)을 가동하는 한편, 회사채·지방채 매입을 본격화해 실물 경제를 지원 사격하기로 했다.구체적으로 고용인 1만명 이하 중소기업에 대한 신규 대출지원에 6000억달러, 지방정부가 발행하는 단기지방채 직접 매입에 5000억달러 규모의 긴급대출제도가 신설된다. 또 고용인 500명 이하 소기업 대상 급여보호프로그램 대출 지원을 위한 긴급대출제도도 신설했다.앞서 발표됐던 회사채 및 자산유동화증권(ABS) 시장 안정을 위한 지원 대상과 규모는 대폭 확대됐다. 회사채 매입을 위한 ‘프라이머리 마켓 기업 신용 기구’(PMCCF) 및 ‘세컨더리 마켓 기업 신용 기구’(SMCCF)를 통한 지원 규모는 기존 2000억달러에서 7500억달러로 늘어났다. 특히 지원 대상을 기존 투자등급에서 일부 투기등급까지 확대했다. 지난 3월22일까지 ‘BBB-’ 이상의 투자등급 채권만 대상으로 했지만 이후 신용등급 강등으로 ‘BB-’ 이상의 투기등급으로 떨어진 이른바 ‘타락 천사(Fallen Angel)’ 기업 회사채까지도 지원 대상에 포함한다는 것이다. 개인 소비자 금융을 지원하는 ‘자산담보부증권 대출 기구’(TALF)를 통한 지원 대상은 오토론, 학자금대출 등을 자산으로 발행된 ABS뿐 아니라 상업용 주택저당증권(CMBS)과 대출채권담보부증권(CLO)까지 확대됐다. 제롬 파월 연준 의장은 이날 성명에서 “이번 코로나19 위기는 국가의 최우선 과제로, 이날 조치는 주 정부·지방정부의 대응능력을 강화하고, 모든 규모의 기업체와 가계를 뒷받침하기 위한 조치”라며 “궁극적으로 (경제) 회복이 최대한 활발하게 이뤄지도록 보장할 것”이라고 말했다.연준의 이같은 유동성 공급 조치는 코로나19 긴급제정법(CARES법)의 보증지원을 바탕으로 한다. 해당 법에 따라 미 재무부는 연준 대출프로그램의 손실 보전을 위해 재무부 외환안정기금(EFS)에 4540억달러를 배정한 바 있다. 이같은 조치를 발표한 날 파월 의장은 브루킹스연구소 주최 연설에서 “연준이 도입한 프로그램은 이례적인 위기 상황에서 재무부 장관 동의하에 이용할 수 있는 긴급대출권한에 기반한다”며 “대출권한은 지출권한이 아니란 것을 명시할 필요가 있으며 경제가 회복세로 돌아서면 이같은 프로그램을 종료할 것”이라고 밝혔다. 구체적으로 미 연준법 13조 3항은 이례적이고 긴급하게 금융시스템에 대한 유동성 공급을 목적으로 납세자 손실을 보호하는 가운데 긴급여신을 실시하도록 제한하고 있다. 연준은 지난 2008년 금융위기 당시 해당 조항을 활용해 긴급대출에 나선 바 있다. 당시 중앙은행의 특정 기관에 대한 지원 논란으로 해당 조항에 따른 조치를 위해선 재무부의 사전 승인을 요건으로 하는 등의 제약을 포함한 법 정비가 이뤄졌다. 한은은 “연준은 사전에 재무부 장관 협의를 통해 마련된 긴급대출제도 도입 요건 및 대출 조건에 따라 재무부 장관의 사전 승인을 통해 긴급대출제도 도입을 결정했다”며 “금융위기 당시 경험 등을 바탕으로 중앙은행의 준재정적 활동에 대한 법률 및 절차를 미리 보완하여 신속하게 대응할 수 있었던 것”이라고 평가했다. 이주열 한은 총재 역시 정부보증 하에서 직접적인 유동성 공급 방식에 긍정적인 입장을 밝혔다. 이주열 총재는 지난 9일 통화정책방향 결정 직후 기자간담회를 통해 “한은이 직접 비금융기관에 대한 특별대출을 통해서 이런 장치를 마련하고 있지만 그 자체로는 기본적으로 한계와 제약이 있다”며 “연준과 같이 정부와 같이 협의해서, 또 정부의 신용보강을 통해서 시장안정에 대처하는 것이 보다 효과적이라고 생각하고 있다”고 말했다. 그러면서도 “정부와 구체적인 논의 여부는 아직은 밝히기가 적절치 않다”며 구체적인 언급은 회피했다. 전문가들은 한은 역시 연준과 같은 방식의 정부가 보증하는 특수목적법인을 통한 회사채 매입 방안이 필요하다면서도 지원 대상 등의 기준 설정이 관건이라고 강조했다. 안동현 서울대 경제학과 교수는 “지금 같은 상황에서는 중앙은행이 더욱 적극적으로 개입을 해야 한다”면서도 “다만 중앙은행의 독립성과도 관련이 있는 문제인 만큼 지원 대상 등의 원칙 설정이 중요하다”고 말했다. 정해진 조건 외의 위험부담을 질 경우 정부의 예산지원을 초래할 가능성이 있고 손실이 중앙은행의 재무건전성을 훼손할 정도로 큰 경우 정책의 독립성을 저해할 우려가 있다는 차원이다.원다연 (here@edaily.co.kr)＜ⓒ종합 경제정보 미디어 이데일리 - 무단전재 & 재배포 금지＞\n"
     ]
    }
   ],
   "source": [
    "headers= {'user-agent':'Mozilla/5.0 (Windows NT 10.0; Win64; x64) AppleWebKit/537.36 (KHTML, like Gecko) Chrome/68.0.3440.106 Safari/537.36',\n",
    "        'referer':'https://news.naver.com/main/main.nhn?mode=LSD&mid=shm&sid1=100'}\n",
    "\n",
    "url1 = 'https://news.naver.com/main/read.nhn?mode=LSD&mid=sec&sid1=101&oid=018&aid=0004617815'\n",
    "url2 = 'https://news.naver.com/main/read.nhn?mode=LSD&mid=sec&sid1=101&oid=032&aid=0003003068'\n",
    "url3 = 'https://news.naver.com/main/read.nhn?mode=LSD&mid=shm&sid1=101&oid=015&aid=0004322450'\n",
    "\n",
    "res = req.get(url1, headers = headers)\n",
    "soup = bs(res.text, 'html.parser')\n",
    "\n",
    "\n",
    "\n",
    "scripts = soup.findAll('script')\n",
    "summarys = soup.findAll('strong',class_ = 'media_end_summary')\n",
    "photos= soup.findAll('span', class_='end_photo_org')\n",
    "As = soup.findAll('a')\n",
    "spans = soup.findAll('div > span', class_= 'u_word_dic')\n",
    "tds = soup.select('tbody > tr > td')\n",
    "strongs = soup.select('div > strong')\n",
    "divs = soup.findAll('div', class_ = 'ab_sub_heading')\n",
    "explains = soup.select('tr + tr > td')\n",
    "\n",
    "#스크립트\n",
    "for script in scripts:\n",
    "    script.extract() \n",
    "\n",
    "#처음에 나오는 기사요약\n",
    "for summary in summarys :\n",
    "    summary.extract()\n",
    "    \n",
    "#사진 밑에 글\n",
    "for photo in photos :\n",
    "    photo.extract()\n",
    "\n",
    "#사진 밑에 글(2)\n",
    "for explain in explains :\n",
    "    explain.extract()\n",
    "\n",
    "#a 태그\n",
    "for A in As :\n",
    "    A.extract()\n",
    "\n",
    "# span태그    \n",
    "for span in spans :\n",
    "    span.extract()\n",
    "\n",
    "#td태그\n",
    "for td in tds :\n",
    "    td.extract()\n",
    "    \n",
    "#strong 태그\n",
    "for strong in strongs :\n",
    "    strong.extract()\n",
    "    \n",
    "#div 태그\n",
    "for div in divs :\n",
    "    div.extract()\n",
    "\n",
    "    \n",
    "titles= soup.select('h3#articleTitle')    #기사 제목\n",
    "date = soup.find('span', class_ = 't11').text #기사입력 시간\n",
    "body = soup.find_all(\"div\", class_ = '_article_body_contents') #기사본문\n",
    "\n",
    "\n",
    "title = titles[0].text\n",
    "body = body[0].text.strip()\n",
    "print(\"기사 제목 : \",title)\n",
    "print(\"\\n기사입력 시간 :\",date)\n",
    "print(\"\\n기사 본문 :\",body)"
   ]
  },
  {
   "cell_type": "markdown",
   "metadata": {},
   "source": [
    "# 문장분리"
   ]
  },
  {
   "cell_type": "code",
   "execution_count": 99,
   "metadata": {},
   "outputs": [],
   "source": [
    "#온점 기준으로 split\n",
    "tmp = []\n",
    "for i in range(len(body.split('다.'))) :\n",
    "    tmp.append(body.split('다.')[i])\n",
    "\n",
    "    \n",
    "#연속된 온점으로 인한 빈 리스트 삭제    \n",
    "tmp_li = []    \n",
    "tmp = pd.Series(tmp)\n",
    "\n",
    "for i in range(len(tmp)) :\n",
    "    if len(tmp[i]) != 0 :\n",
    "        tmp_li.append(tmp[i])\n",
    "        \n",
    "        \n",
    "# 문장끝에 온점 다시 추가       \n",
    "for i in range(len(tmp_li)) :\n",
    "    tmp_li[i] = tmp_li[i]+'다.'\n",
    "    \n",
    "\n",
    "# Series형태로 변환\n",
    "tmp_li = pd.Series(tmp_li)\n",
    " \n",
    "\n",
    "\n",
    "#쌍따옴표 안에 있는 온점 split 한 것을 다시 함쳐줌\n",
    "odd = [1,3,5,7,9]\n",
    "try :\n",
    "    for i in range(len(tmp_li)) :\n",
    "        if tmp_li[i].count('\"') in odd :\n",
    "            tmp_li[i] = tmp_li[i]+tmp_li[i+1]\n",
    "            tmp_li = tmp_li.drop(i+1)         \n",
    "except :\n",
    "    pass\n",
    "\n",
    "\n",
    "\n",
    "#특수문자 쌍따옴표 안에 있는 온점 split 한 것을 다시 함쳐줌\n",
    "try :\n",
    "    for i in range(len(tmp_li)) :\n",
    "        if tmp_li[i].count('“') + tmp_li[i].count('”') in odd :\n",
    "            tmp_li[i] = tmp_li[i]+tmp_li[i+1]\n",
    "            tmp_li = tmp_li.drop(i+1)         \n",
    "except :\n",
    "    pass\n",
    "\n",
    "\n",
    "#index reset 적용\n",
    "tmp_li.reset_index(drop = True, inplace=True)\n",
    "\n",
    "#strip 적용\n",
    "for i in range(len(tmp_li)) :\n",
    "    tmp_li[i] = tmp_li[i].strip()\n",
    "\n",
    "#1문장 초과, 3문장 이하일 때 마지막 문장 drop\n",
    "if len(tmp_li) >1 and len(tmp_li) <=3  :\n",
    "    tmp_li = tmp_li.drop(len(tmp_li)-1)\n",
    "\n",
    "    \n",
    "    \n",
    "#sents에 tmp_li 를 넣어줌\n",
    "sents = tmp_li\n"
   ]
  },
  {
   "cell_type": "code",
   "execution_count": 100,
   "metadata": {},
   "outputs": [],
   "source": [
    "sents = tmp_li\n",
    "sents.reset_index(drop = True, inplace = True)"
   ]
  },
  {
   "cell_type": "code",
   "execution_count": 101,
   "metadata": {
    "scrolled": true
   },
   "outputs": [
    {
     "name": "stdout",
     "output_type": "stream",
     "text": [
      "[ 1 ]\n",
      " [이데일리 원다연 기자] 미국 중앙은행인 연방준비제도(연준·Fed)가 코로나19로 인한 경기 충격에 대응해 파격적인 유동성 공급을 이어가고 있다.\n",
      "[ 2 ]\n",
      " 지난 금융위기 당시 경험을 바탕으로 관련 절차를 정비해 신속하고 선제적인 대응에 나설 수 있다는 분석이다.\n",
      "[ 3 ]\n",
      " 미 연준은 9일(현지시간) 중소기업 등을 지원하는 2조3000억달러(한화 약 2800조원) 규모 추가 대책을 발표했다.\n",
      "[ 4 ]\n",
      " ‘메인스트리트 대출 프로그램(MSLP)’을 통해 중소기업에 6000억달러를 투입한다.\n",
      "[ 5 ]\n",
      " 직원 1만명 이하·매출 25억달러 이하 기업을 대상으로 한 최대 4년 만기 대출과 직원 급여를 측면 지원하는 ‘급여보호프로그램’(PPP)을 가동하는 한편, 회사채·지방채 매입을 본격화해 실물 경제를 지원 사격하기로 했다.\n",
      "[ 6 ]\n",
      " 구체적으로 고용인 1만명 이하 중소기업에 대한 신규 대출지원에 6000억달러, 지방정부가 발행하는 단기지방채 직접 매입에 5000억달러 규모의 긴급대출제도가 신설된다.\n",
      "[ 7 ]\n",
      " 또 고용인 500명 이하 소기업 대상 급여보호프로그램 대출 지원을 위한 긴급대출제도도 신설했다.\n",
      "[ 8 ]\n",
      " 앞서 발표됐던 회사채 및 자산유동화증권(ABS) 시장 안정을 위한 지원 대상과 규모는 대폭 확대됐다.\n",
      "[ 9 ]\n",
      " 회사채 매입을 위한 ‘프라이머리 마켓 기업 신용 기구’(PMCCF) 및 ‘세컨더리 마켓 기업 신용 기구’(SMCCF)를 통한 지원 규모는 기존 2000억달러에서 7500억달러로 늘어났다.\n",
      "[ 10 ]\n",
      " 특히 지원 대상을 기존 투자등급에서 일부 투기등급까지 확대했다.\n",
      "[ 11 ]\n",
      " 지난 3월22일까지 ‘BBB-’ 이상의 투자등급 채권만 대상으로 했지만 이후 신용등급 강등으로 ‘BB-’ 이상의 투기등급으로 떨어진 이른바 ‘타락 천사(Fallen Angel)’ 기업 회사채까지도 지원 대상에 포함한다는 것이다.\n",
      "[ 12 ]\n",
      " 개인 소비자 금융을 지원하는 ‘자산담보부증권 대출 기구’(TALF)를 통한 지원 대상은 오토론, 학자금대출 등을 자산으로 발행된 ABS뿐 아니라 상업용 주택저당증권(CMBS)과 대출채권담보부증권(CLO)까지 확대됐다.\n",
      "[ 13 ]\n",
      " 제롬 파월 연준 의장은 이날 성명에서 “이번 코로나19 위기는 국가의 최우선 과제로, 이날 조치는 주 정부·지방정부의 대응능력을 강화하고, 모든 규모의 기업체와 가계를 뒷받침하기 위한 조치”라며 “궁극적으로 (경제) 회복이 최대한 활발하게 이뤄지도록 보장할 것”이라고 말했다.\n",
      "[ 14 ]\n",
      " 연준의 이같은 유동성 공급 조치는 코로나19 긴급제정법(CARES법)의 보증지원을 바탕으로 한다.\n",
      "[ 15 ]\n",
      " 해당 법에 따라 미 재무부는 연준 대출프로그램의 손실 보전을 위해 재무부 외환안정기금(EFS)에 4540억달러를 배정한 바 있다.\n",
      "[ 16 ]\n",
      " 이같은 조치를 발표한 날 파월 의장은 브루킹스연구소 주최 연설에서 “연준이 도입한 프로그램은 이례적인 위기 상황에서 재무부 장관 동의하에 이용할 수 있는 긴급대출권한에 기반한다”며 “대출권한은 지출권한이 아니란 것을 명시할 필요가 있으며 경제가 회복세로 돌아서면 이같은 프로그램을 종료할 것”이라고 밝혔다.\n",
      "[ 17 ]\n",
      " 구체적으로 미 연준법 13조 3항은 이례적이고 긴급하게 금융시스템에 대한 유동성 공급을 목적으로 납세자 손실을 보호하는 가운데 긴급여신을 실시하도록 제한하고 있다.\n",
      "[ 18 ]\n",
      " 연준은 지난 2008년 금융위기 당시 해당 조항을 활용해 긴급대출에 나선 바 있다.\n",
      "[ 19 ]\n",
      " 당시 중앙은행의 특정 기관에 대한 지원 논란으로 해당 조항에 따른 조치를 위해선 재무부의 사전 승인을 요건으로 하는 등의 제약을 포함한 법 정비가 이뤄졌다.\n",
      "[ 20 ]\n",
      " 한은은 “연준은 사전에 재무부 장관 협의를 통해 마련된 긴급대출제도 도입 요건 및 대출 조건에 따라 재무부 장관의 사전 승인을 통해 긴급대출제도 도입을 결정했다”며 “금융위기 당시 경험 등을 바탕으로 중앙은행의 준재정적 활동에 대한 법률 및 절차를 미리 보완하여 신속하게 대응할 수 있었던 것”이라고 평가했다.\n",
      "[ 21 ]\n",
      " 이주열 한은 총재 역시 정부보증 하에서 직접적인 유동성 공급 방식에 긍정적인 입장을 밝혔다.\n",
      "[ 22 ]\n",
      " 이주열 총재는 지난 9일 통화정책방향 결정 직후 기자간담회를 통해 “한은이 직접 비금융기관에 대한 특별대출을 통해서 이런 장치를 마련하고 있지만 그 자체로는 기본적으로 한계와 제약이 있다”며 “연준과 같이 정부와 같이 협의해서, 또 정부의 신용보강을 통해서 시장안정에 대처하는 것이 보다 효과적이라고 생각하고 있다”고 말했다.\n",
      "[ 23 ]\n",
      " 그러면서도 “정부와 구체적인 논의 여부는 아직은 밝히기가 적절치 않다”며 구체적인 언급은 회피했다.\n",
      "[ 24 ]\n",
      " 전문가들은 한은 역시 연준과 같은 방식의 정부가 보증하는 특수목적법인을 통한 회사채 매입 방안이 필요하다면서도 지원 대상 등의 기준 설정이 관건이라고 강조했다.\n",
      "[ 25 ]\n",
      " 안동현 서울대 경제학과 교수는 “지금 같은 상황에서는 중앙은행이 더욱 적극적으로 개입을 해야 한다”면서도 “다만 중앙은행의 독립성과도 관련이 있는 문제인 만큼 지원 대상 등의 원칙 설정이 중요하다”고 말했다.\n",
      "[ 26 ]\n",
      " 정해진 조건 외의 위험부담을 질 경우 정부의 예산지원을 초래할 가능성이 있고 손실이 중앙은행의 재무건전성을 훼손할 정도로 큰 경우 정책의 독립성을 저해할 우려가 있다는 차원이다.\n",
      "[ 27 ]\n",
      " 원다연 (here@edaily.co.kr)＜ⓒ종합 경제정보 미디어 이데일리 - 무단전재 & 재배포 금지＞다.\n"
     ]
    }
   ],
   "source": [
    "#문장단위로 분리된 기사\n",
    "for i in range(len(sents)) :\n",
    "    print('[',i+1,']\\n',sents[i])"
   ]
  },
  {
   "cell_type": "code",
   "execution_count": 102,
   "metadata": {},
   "outputs": [],
   "source": [
    "# konlpy의 코모란 이용하여 단어 그래프 생성 함수정의\n",
    "\n",
    "from konlpy.tag import Komoran\n",
    "\n",
    "komoran = Komoran()\n",
    "def komoran_tokenize(sent):\n",
    "    words = komoran.pos(sent, join=True) \n",
    "    words = [w for w in words if ('/NNP' in w or '/NNG' in w)] #고유명사와 일반명사만 뽑음\n",
    "    return words"
   ]
  },
  {
   "cell_type": "markdown",
   "metadata": {},
   "source": [
    "# 기사의 키워드 추출"
   ]
  },
  {
   "cell_type": "code",
   "execution_count": 103,
   "metadata": {},
   "outputs": [
    {
     "data": {
      "text/plain": [
       "[('대출/NNG', 5.200035036620394),\n",
       " ('지원/NNG', 3.628948911864922),\n",
       " ('연준/NNG', 2.9617300292424726),\n",
       " ('긴급/NNG', 2.848039647758799),\n",
       " ('재무부/NNP', 2.1614784781389402),\n",
       " ('대상/NNG', 2.0612935001972654),\n",
       " ('정부/NNG', 2.0070418119293936),\n",
       " ('제도/NNG', 1.6690831832973063),\n",
       " ('장관/NNG', 1.590059020002371),\n",
       " ('도입/NNG', 1.590059020002371),\n",
       " ('조치/NNG', 1.539595364014414),\n",
       " ('사전/NNG', 1.4661566594198177),\n",
       " ('대응/NNG', 1.3435439210993838),\n",
       " ('권한/NNG', 1.327472740217221),\n",
       " ('금융/NNG', 1.2910507681115648),\n",
       " ('중앙은행/NNP', 1.28294339775492),\n",
       " ('회사채/NNP', 1.2708903981551214),\n",
       " ('당시/NNG', 1.2449820764615849),\n",
       " ('법/NNG', 1.2103064554750476),\n",
       " ('이하/NNG', 1.1928718075339915),\n",
       " ('기업/NNG', 1.168706178909256),\n",
       " ('매입/NNG', 1.1576908000144095),\n",
       " ('규모/NNG', 1.1575014120443048),\n",
       " ('바탕/NNG', 1.0598478241836569),\n",
       " ('결정/NNG', 1.0431568355225487),\n",
       " ('협의/NNG', 1.0431568355225487),\n",
       " ('마련/NNG', 1.0431568355225487),\n",
       " ('한은/NNP', 1.0431568355225487),\n",
       " ('신용/NNG', 1.012021226699403),\n",
       " ('유동성/NNP', 0.990043504196294)]"
      ]
     },
     "execution_count": 103,
     "metadata": {},
     "output_type": "execute_result"
    }
   ],
   "source": [
    "from textrank import KeywordSummarizer\n",
    "\n",
    "#키워드 뽑기\n",
    "keyword_extractor = KeywordSummarizer(\n",
    "    tokenize = komoran_tokenize,\n",
    "    window = -1,\n",
    "    verbose = False\n",
    ")\n",
    "\n",
    "#문장 내에서 뽑은 keyword 중 중요성 기준 상위 30개\n",
    "keywords = keyword_extractor.summarize(sents, topk = 30) \n",
    "keywords"
   ]
  },
  {
   "cell_type": "code",
   "execution_count": 104,
   "metadata": {},
   "outputs": [
    {
     "data": {
      "text/plain": [
       "['대출', '지원', '연준', '긴급', '재무부']"
      ]
     },
     "execution_count": 104,
     "metadata": {},
     "output_type": "execute_result"
    }
   ],
   "source": [
    "# 한글자인 keyword 제외, 단어만 추출\n",
    "keywords_list = []\n",
    "for i in range(len(keywords)) :\n",
    "    if len(keywords[i][0].split('/')[0]) != 1 :\n",
    "        keywords_list.append(keywords[i][0].split('/')[0])\n",
    "        \n",
    "#두 글자 이상인 keyword 중에서 차례대로 상위 5개만 뽑음\n",
    "keywords_list = keywords_list[:5]\n",
    "keywords_list"
   ]
  },
  {
   "cell_type": "markdown",
   "metadata": {},
   "source": [
    "# 기사의 요약문장 추출"
   ]
  },
  {
   "cell_type": "code",
   "execution_count": 105,
   "metadata": {},
   "outputs": [],
   "source": [
    "#본문의 문장 수에 따른 요약문장 수(topk) 결정\n",
    "\n",
    "if len(sents) <= 1 :\n",
    "    topk = 1\n",
    "elif len(sents) <= 2 :\n",
    "    topk = 2\n",
    "elif len(sents) <= 4 : \n",
    "    topk = 3\n",
    "elif len(sents) < 9 :\n",
    "    topk = 4\n",
    "elif len(sents) < 19 :\n",
    "    topk = 5\n",
    "elif len(sents) < 29 :\n",
    "    topk = 6\n",
    "elif len(sents) < 39 :\n",
    "    topk = 7\n",
    "else : \n",
    "    topk = 8"
   ]
  },
  {
   "cell_type": "code",
   "execution_count": 106,
   "metadata": {},
   "outputs": [
    {
     "name": "stdout",
     "output_type": "stream",
     "text": [
      "기존 기사의 문장 수 :  27\n",
      "요약된 문장 수 :  6\n",
      "이 기사의 키워드 :  ['대출', '지원', '연준', '긴급', '재무부']\n",
      "****************************** 요약된 기사 ****************************** \n",
      " 美연준, 정크본드까지 매입..\"할수 있는 건 다 한다\" \n",
      " 2020.04.10. 오후 5:52\n",
      "[ 1 ]\n",
      " [이데일리 원다연 기자] 미국 중앙은행인 연방준비제도(연준·Fed)가 코로나19로 인한 경기 충격에 대응해 파격적인 유동성 공급을 이어가고 있다.\n",
      "[ 2 ]\n",
      " 구체적으로 고용인 1만명 이하 중소기업에 대한 신규 대출지원에 6000억달러, 지방정부가 발행하는 단기지방채 직접 매입에 5000억달러 규모의 긴급대출제도가 신설된다.\n",
      "[ 3 ]\n",
      " 또 고용인 500명 이하 소기업 대상 급여보호프로그램 대출 지원을 위한 긴급대출제도도 신설했다.\n",
      "[ 4 ]\n",
      " 연준의 이같은 유동성 공급 조치는 코로나19 긴급제정법(CARES법)의 보증지원을 바탕으로 한다.\n",
      "[ 5 ]\n",
      " 한은은 “연준은 사전에 재무부 장관 협의를 통해 마련된 긴급대출제도 도입 요건 및 대출 조건에 따라 재무부 장관의 사전 승인을 통해 긴급대출제도 도입을 결정했다”며 “금융위기 당시 경험 등을 바탕으로 중앙은행의 준재정적 활동에 대한 법률 및 절차를 미리 보완하여 신속하게 대응할 수 있었던 것”이라고 평가했다.\n",
      "[ 6 ]\n",
      " 전문가들은 한은 역시 연준과 같은 방식의 정부가 보증하는 특수목적법인을 통한 회사채 매입 방안이 필요하다면서도 지원 대상 등의 기준 설정이 관건이라고 강조했다.\n"
     ]
    }
   ],
   "source": [
    "from textrank import KeysentenceSummarizer\n",
    "\n",
    "#뉴스는 첫 문장이 중요하기 때문에 첫문장이 다른 문장보다 10배 중요하다고 설정\n",
    "#다른 문장들 중에서도 첫 문장과 비슷할수록 상대적인 중요도가 더 커진다\n",
    "\n",
    "bias = np.ones(len(sents))\n",
    "bias[0] = 5 \n",
    "bias[-1] = 0.01\n",
    "\n",
    "summarizer = KeysentenceSummarizer(tokenize = komoran_tokenize, min_sim = 0.3)\n",
    "keysents = summarizer.summarize(sents, topk = topk, bias = bias)\n",
    "keysents.sort() # 원래 중요도의 순서대로 나왔던 것을 본문기준 순서로 바꿔줌\n",
    "\n",
    "print(\"기존 기사의 문장 수 : \",len(sents)) \n",
    "print(\"요약된 문장 수 : \",topk) \n",
    "print(\"이 기사의 키워드 : \",keywords_list)\n",
    "print('*'*30,'요약된 기사','*'*30,\n",
    "     '\\n',title,\n",
    "     '\\n',date)\n",
    "for i in range(len(keysents)) :\n",
    "    print('[',i+1,']\\n', keysents[i][2])"
   ]
  },
  {
   "cell_type": "code",
   "execution_count": 107,
   "metadata": {},
   "outputs": [
    {
     "data": {
      "text/plain": [
       "array([1.72839499, 0.65209131, 0.88853541, 0.53337654, 1.08847295,\n",
       "       1.47230907, 1.20841561, 1.02842513, 0.79725198, 0.81068309,\n",
       "       0.89500922, 0.88438212, 1.0088838 , 1.39365869, 0.96712257,\n",
       "       1.20330165, 1.11788931, 1.10348204, 1.01128998, 1.47740652,\n",
       "       0.8451157 , 1.19599081, 0.43702905, 1.35617982, 0.84113712,\n",
       "       0.66425935, 0.38990618])"
      ]
     },
     "execution_count": 107,
     "metadata": {},
     "output_type": "execute_result"
    }
   ],
   "source": [
    "#기존 기사 각 문장 별 중요도\n",
    "summarizer.R"
   ]
  },
  {
   "cell_type": "code",
   "execution_count": null,
   "metadata": {},
   "outputs": [],
   "source": []
  },
  {
   "cell_type": "code",
   "execution_count": null,
   "metadata": {},
   "outputs": [],
   "source": []
  }
 ],
 "metadata": {
  "kernelspec": {
   "display_name": "Python 3",
   "language": "python",
   "name": "python3"
  },
  "language_info": {
   "codemirror_mode": {
    "name": "ipython",
    "version": 3
   },
   "file_extension": ".py",
   "mimetype": "text/x-python",
   "name": "python",
   "nbconvert_exporter": "python",
   "pygments_lexer": "ipython3",
   "version": "3.7.3"
  }
 },
 "nbformat": 4,
 "nbformat_minor": 2
}
